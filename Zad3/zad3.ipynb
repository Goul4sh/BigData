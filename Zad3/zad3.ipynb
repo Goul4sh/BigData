{
 "cells": [
  {
   "metadata": {},
   "cell_type": "raw",
   "source": "",
   "id": "5282de7d01cce05e"
  },
  {
   "metadata": {},
   "cell_type": "markdown",
   "source": [
    "- Łukasz Gałuszewski 247660\n",
    "- Szymon Giergiel 247663"
   ],
   "id": "578e605737947b2f"
  },
  {
   "metadata": {
    "ExecuteTime": {
     "end_time": "2025-04-11T16:31:48.990272Z",
     "start_time": "2025-04-11T16:31:47.847143Z"
    }
   },
   "cell_type": "code",
   "source": [
    "import pandas as pd\n",
    "import matplotlib.pyplot as plt\n",
    "from matplotlib.scale import FuncScale\n",
    "import seaborn as sns\n",
    "import numpy as np\n",
    "from scipy.stats import zscore\n",
    "from google.cloud import bigquery\n"
   ],
   "id": "58aaea00c6a8e40a",
   "outputs": [],
   "execution_count": 1
  },
  {
   "cell_type": "code",
   "id": "initial_id",
   "metadata": {
    "collapsed": true,
    "ExecuteTime": {
     "end_time": "2025-04-11T16:39:07.303158Z",
     "start_time": "2025-04-11T16:39:06.973579Z"
    }
   },
   "source": [
    "df_countries = pd.read_csv('../Zad1/results/world_covid_6_1.csv')\n",
    "df_dates = pd.read_csv('../Zad1/results/covid_5_1.csv')"
   ],
   "outputs": [],
   "execution_count": 2
  },
  {
   "metadata": {},
   "cell_type": "markdown",
   "source": [
    "## Część 1\n",
    "Wyznacz średnią kroczącą i odchylenie standardowe kroczące (np. 7-dniowe), aby zobaczyć, jak te zjawiska zmieniają się w czasie. Obliczenia wykonaj dla:"
   ],
   "id": "3f45b8877bb5813f"
  },
  {
   "metadata": {},
   "cell_type": "markdown",
   "source": "### 1.1  liczby nowych zachorowań,",
   "id": "d6f5305f729580b0"
  },
  {
   "metadata": {},
   "cell_type": "code",
   "outputs": [],
   "execution_count": null,
   "source": "",
   "id": "51a2bea76d9ff791"
  },
  {
   "metadata": {},
   "cell_type": "markdown",
   "source": "### 1.2 liczby nowych śmierci,",
   "id": "6a81e55035f61929"
  },
  {
   "metadata": {},
   "cell_type": "code",
   "outputs": [],
   "execution_count": null,
   "source": "",
   "id": "d187c3ce861fadac"
  },
  {
   "metadata": {},
   "cell_type": "markdown",
   "source": "### 1.3 liczby nowych szczepień,",
   "id": "aeb14967f80b407f"
  },
  {
   "metadata": {},
   "cell_type": "code",
   "outputs": [],
   "execution_count": null,
   "source": "",
   "id": "45b4a44d3aa1cab9"
  },
  {
   "metadata": {},
   "cell_type": "markdown",
   "source": "### 1.4 - 2 innych różnych informacji, które uznasz za istotne.",
   "id": "10cc23cabbdbdf85"
  },
  {
   "metadata": {},
   "cell_type": "markdown",
   "source": "### 1.4.1",
   "id": "c8d1c048b2564524"
  },
  {
   "metadata": {},
   "cell_type": "code",
   "outputs": [],
   "execution_count": null,
   "source": "",
   "id": "589e042ce0279ea1"
  },
  {
   "metadata": {},
   "cell_type": "markdown",
   "source": "### 1.4.2",
   "id": "219017ca8a8dc488"
  },
  {
   "metadata": {},
   "cell_type": "code",
   "outputs": [],
   "execution_count": null,
   "source": "",
   "id": "4241aaeb8e58fdb"
  },
  {
   "metadata": {},
   "cell_type": "markdown",
   "source": "## Część 2",
   "id": "15d1a12108defd36"
  },
  {
   "metadata": {},
   "cell_type": "markdown",
   "source": "## Część 3",
   "id": "1c6e4f010e859494"
  },
  {
   "metadata": {},
   "cell_type": "markdown",
   "source": "## 3.1",
   "id": "5abb4388203439fa"
  },
  {
   "metadata": {},
   "cell_type": "markdown",
   "source": "## 3.2",
   "id": "b705be91e61074bd"
  },
  {
   "metadata": {},
   "cell_type": "markdown",
   "source": "## 3.3",
   "id": "7876477f3cf8e514"
  },
  {
   "metadata": {},
   "cell_type": "markdown",
   "source": "## 3.4",
   "id": "92cfaa96d5368f1"
  },
  {
   "metadata": {},
   "cell_type": "markdown",
   "source": "## 3.4.1",
   "id": "b1a3370bbad3c554"
  },
  {
   "metadata": {},
   "cell_type": "markdown",
   "source": "## 3.4.2",
   "id": "1baebbe377ad4c6f"
  },
  {
   "metadata": {},
   "cell_type": "markdown",
   "source": "## Część 4",
   "id": "90e4feb467d9ee3b"
  },
  {
   "metadata": {},
   "cell_type": "markdown",
   "source": "## Część 5",
   "id": "4c42562ef2e29cdc"
  },
  {
   "metadata": {},
   "cell_type": "markdown",
   "source": "## 5.1  liczba nowych zachorowań,",
   "id": "83b283106492dab6"
  },
  {
   "metadata": {},
   "cell_type": "markdown",
   "source": "## 5.2  liczba nowych śmierci,",
   "id": "1a6f1dc335de680f"
  },
  {
   "metadata": {},
   "cell_type": "markdown",
   "source": "## 5.3 liczba nowych szczepień,",
   "id": "a305b2a12690812"
  },
  {
   "metadata": {},
   "cell_type": "markdown",
   "source": "## 5.4 - 2 inne różne informacje, które uznasz za istotne.",
   "id": "d91973e2387d1099"
  },
  {
   "metadata": {},
   "cell_type": "markdown",
   "source": "## 5.4.1",
   "id": "892268b7cad1619a"
  },
  {
   "metadata": {},
   "cell_type": "markdown",
   "source": "## 5.4.2",
   "id": "870213180b8316c9"
  },
  {
   "metadata": {},
   "cell_type": "code",
   "outputs": [],
   "execution_count": null,
   "source": "",
   "id": "f55d973cc400d0c4"
  },
  {
   "metadata": {},
   "cell_type": "code",
   "outputs": [],
   "execution_count": null,
   "source": "",
   "id": "48bb9cefecdb652a"
  }
 ],
 "metadata": {
  "kernelspec": {
   "display_name": "Python 3",
   "language": "python",
   "name": "python3"
  },
  "language_info": {
   "codemirror_mode": {
    "name": "ipython",
    "version": 2
   },
   "file_extension": ".py",
   "mimetype": "text/x-python",
   "name": "python",
   "nbconvert_exporter": "python",
   "pygments_lexer": "ipython2",
   "version": "2.7.6"
  }
 },
 "nbformat": 4,
 "nbformat_minor": 5
}
