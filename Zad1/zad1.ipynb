{
 "cells": [
  {
   "metadata": {},
   "cell_type": "markdown",
   "source": [
    "Łukasz Gałuszewski 247660\n",
    "Szymon Giergiel 247663\n",
    "Przetwarzanie dużych zbiorów danych - poziom 1"
   ],
   "id": "7d00d0c54d7154b3"
  },
  {
   "metadata": {
    "ExecuteTime": {
     "end_time": "2025-03-21T02:32:53.598079Z",
     "start_time": "2025-03-21T02:32:53.593292Z"
    }
   },
   "cell_type": "code",
   "source": [
    "import os\n",
    "import pandas as pd\n",
    "from google.cloud import bigquery\n"
   ],
   "id": "9617a8a0e8f492e7",
   "outputs": [],
   "execution_count": 490
  },
  {
   "cell_type": "code",
   "id": "initial_id",
   "metadata": {
    "collapsed": true,
    "ExecuteTime": {
     "end_time": "2025-03-21T02:32:53.624219Z",
     "start_time": "2025-03-21T02:32:53.614146Z"
    }
   },
   "source": [
    "os.environ[\n",
    "    \"GOOGLE_APPLICATION_CREDENTIALS\"] = \"...\"\n",
    "client = bigquery.Client()"
   ],
   "outputs": [],
   "execution_count": 491
  },
  {
   "metadata": {
    "ExecuteTime": {
     "end_time": "2025-03-21T02:32:57.713927Z",
     "start_time": "2025-03-21T02:32:53.791765Z"
    }
   },
   "cell_type": "code",
   "source": [
    "query = ('select * from bigquery-public-data.covid19_open_data.covid19_open_data limit 10')\n",
    "query_job = client.query(query)\n",
    "query_result = query_job.result()\n",
    "df = query_result.to_dataframe()"
   ],
   "id": "76803cc05114e218",
   "outputs": [],
   "execution_count": 492
  },
  {
   "metadata": {
    "ExecuteTime": {
     "end_time": "2025-03-21T02:32:57.729104Z",
     "start_time": "2025-03-21T02:32:57.721291Z"
    }
   },
   "cell_type": "code",
   "source": "df.dtypes",
   "id": "a394f02243726372",
   "outputs": [
    {
     "data": {
      "text/plain": [
       "location_key                                     object\n",
       "date                                             dbdate\n",
       "place_id                                         object\n",
       "wikidata_id                                      object\n",
       "datacommons_id                                   object\n",
       "                                                  ...  \n",
       "new_persons_fully_vaccinated_janssen              Int64\n",
       "cumulative_persons_fully_vaccinated_janssen       Int64\n",
       "new_vaccine_doses_administered_janssen            Int64\n",
       "cumulative_vaccine_doses_administered_janssen     Int64\n",
       "location_geometry                                object\n",
       "Length: 701, dtype: object"
      ]
     },
     "execution_count": 493,
     "metadata": {},
     "output_type": "execute_result"
    }
   ],
   "execution_count": 493
  },
  {
   "metadata": {
    "ExecuteTime": {
     "end_time": "2025-03-21T02:33:00.228545Z",
     "start_time": "2025-03-21T02:32:57.853016Z"
    }
   },
   "cell_type": "code",
   "source": [
    "query = ('select count(*) as LiczbaWierszy '\n",
    "         'from bigquery-public-data.covid19_open_data.covid19_open_data'\n",
    "          )\n",
    "client.query(query).result().to_dataframe()\n"
   ],
   "id": "b39ea6537fbba334",
   "outputs": [
    {
     "data": {
      "text/plain": [
       "   LiczbaWierszy\n",
       "0       22756333"
      ],
      "text/html": [
       "<div>\n",
       "<style scoped>\n",
       "    .dataframe tbody tr th:only-of-type {\n",
       "        vertical-align: middle;\n",
       "    }\n",
       "\n",
       "    .dataframe tbody tr th {\n",
       "        vertical-align: top;\n",
       "    }\n",
       "\n",
       "    .dataframe thead th {\n",
       "        text-align: right;\n",
       "    }\n",
       "</style>\n",
       "<table border=\"1\" class=\"dataframe\">\n",
       "  <thead>\n",
       "    <tr style=\"text-align: right;\">\n",
       "      <th></th>\n",
       "      <th>LiczbaWierszy</th>\n",
       "    </tr>\n",
       "  </thead>\n",
       "  <tbody>\n",
       "    <tr>\n",
       "      <th>0</th>\n",
       "      <td>22756333</td>\n",
       "    </tr>\n",
       "  </tbody>\n",
       "</table>\n",
       "</div>"
      ]
     },
     "execution_count": 494,
     "metadata": {},
     "output_type": "execute_result"
    }
   ],
   "execution_count": 494
  },
  {
   "metadata": {
    "ExecuteTime": {
     "end_time": "2025-03-21T02:33:02.750565Z",
     "start_time": "2025-03-21T02:33:00.293604Z"
    }
   },
   "cell_type": "code",
   "source": [
    "query = ('select count(distinct country_name) as LiczbaKrajow from `bigquery-public-data.covid19_open_data.covid19_open_data` where aggregation_level = 0'\n",
    "          )\n",
    "client.query(query).result().to_dataframe()"
   ],
   "id": "1b9e80c9b67c58d6",
   "outputs": [
    {
     "data": {
      "text/plain": [
       "   LiczbaKrajow\n",
       "0           246"
      ],
      "text/html": [
       "<div>\n",
       "<style scoped>\n",
       "    .dataframe tbody tr th:only-of-type {\n",
       "        vertical-align: middle;\n",
       "    }\n",
       "\n",
       "    .dataframe tbody tr th {\n",
       "        vertical-align: top;\n",
       "    }\n",
       "\n",
       "    .dataframe thead th {\n",
       "        text-align: right;\n",
       "    }\n",
       "</style>\n",
       "<table border=\"1\" class=\"dataframe\">\n",
       "  <thead>\n",
       "    <tr style=\"text-align: right;\">\n",
       "      <th></th>\n",
       "      <th>LiczbaKrajow</th>\n",
       "    </tr>\n",
       "  </thead>\n",
       "  <tbody>\n",
       "    <tr>\n",
       "      <th>0</th>\n",
       "      <td>246</td>\n",
       "    </tr>\n",
       "  </tbody>\n",
       "</table>\n",
       "</div>"
      ]
     },
     "execution_count": 495,
     "metadata": {},
     "output_type": "execute_result"
    }
   ],
   "execution_count": 495
  },
  {
   "metadata": {
    "ExecuteTime": {
     "end_time": "2025-03-21T02:33:05.011973Z",
     "start_time": "2025-03-21T02:33:02.827279Z"
    }
   },
   "cell_type": "code",
   "source": [
    "query = ('SELECT date FROM `bigquery-public-data.covid19_open_data.covid19_open_data` order by date desc limit 1'\n",
    "          )\n",
    "client.query(query).result().to_dataframe()"
   ],
   "id": "94c559332cd885d",
   "outputs": [
    {
     "data": {
      "text/plain": [
       "         date\n",
       "0  2022-09-17"
      ],
      "text/html": [
       "<div>\n",
       "<style scoped>\n",
       "    .dataframe tbody tr th:only-of-type {\n",
       "        vertical-align: middle;\n",
       "    }\n",
       "\n",
       "    .dataframe tbody tr th {\n",
       "        vertical-align: top;\n",
       "    }\n",
       "\n",
       "    .dataframe thead th {\n",
       "        text-align: right;\n",
       "    }\n",
       "</style>\n",
       "<table border=\"1\" class=\"dataframe\">\n",
       "  <thead>\n",
       "    <tr style=\"text-align: right;\">\n",
       "      <th></th>\n",
       "      <th>date</th>\n",
       "    </tr>\n",
       "  </thead>\n",
       "  <tbody>\n",
       "    <tr>\n",
       "      <th>0</th>\n",
       "      <td>2022-09-17</td>\n",
       "    </tr>\n",
       "  </tbody>\n",
       "</table>\n",
       "</div>"
      ]
     },
     "execution_count": 496,
     "metadata": {},
     "output_type": "execute_result"
    }
   ],
   "execution_count": 496
  },
  {
   "metadata": {
    "ExecuteTime": {
     "end_time": "2025-03-21T02:33:07.410067Z",
     "start_time": "2025-03-21T02:33:05.082854Z"
    }
   },
   "cell_type": "code",
   "source": [
    "query = ('SELECT column_name, data_type FROM `bigquery-public-data.covid19_open_data.INFORMATION_SCHEMA.COLUMNS` WHERE table_name = \"covid19_open_data\"')\n",
    "client.query(query).result().to_dataframe()"
   ],
   "id": "622b1e694cdc22de",
   "outputs": [
    {
     "data": {
      "text/plain": [
       "                                       column_name  data_type\n",
       "0                                     location_key     STRING\n",
       "1                                             date       DATE\n",
       "2                                         place_id     STRING\n",
       "3                                      wikidata_id     STRING\n",
       "4                                   datacommons_id     STRING\n",
       "..                                             ...        ...\n",
       "696           new_persons_fully_vaccinated_janssen      INT64\n",
       "697    cumulative_persons_fully_vaccinated_janssen      INT64\n",
       "698         new_vaccine_doses_administered_janssen      INT64\n",
       "699  cumulative_vaccine_doses_administered_janssen      INT64\n",
       "700                              location_geometry  GEOGRAPHY\n",
       "\n",
       "[701 rows x 2 columns]"
      ],
      "text/html": [
       "<div>\n",
       "<style scoped>\n",
       "    .dataframe tbody tr th:only-of-type {\n",
       "        vertical-align: middle;\n",
       "    }\n",
       "\n",
       "    .dataframe tbody tr th {\n",
       "        vertical-align: top;\n",
       "    }\n",
       "\n",
       "    .dataframe thead th {\n",
       "        text-align: right;\n",
       "    }\n",
       "</style>\n",
       "<table border=\"1\" class=\"dataframe\">\n",
       "  <thead>\n",
       "    <tr style=\"text-align: right;\">\n",
       "      <th></th>\n",
       "      <th>column_name</th>\n",
       "      <th>data_type</th>\n",
       "    </tr>\n",
       "  </thead>\n",
       "  <tbody>\n",
       "    <tr>\n",
       "      <th>0</th>\n",
       "      <td>location_key</td>\n",
       "      <td>STRING</td>\n",
       "    </tr>\n",
       "    <tr>\n",
       "      <th>1</th>\n",
       "      <td>date</td>\n",
       "      <td>DATE</td>\n",
       "    </tr>\n",
       "    <tr>\n",
       "      <th>2</th>\n",
       "      <td>place_id</td>\n",
       "      <td>STRING</td>\n",
       "    </tr>\n",
       "    <tr>\n",
       "      <th>3</th>\n",
       "      <td>wikidata_id</td>\n",
       "      <td>STRING</td>\n",
       "    </tr>\n",
       "    <tr>\n",
       "      <th>4</th>\n",
       "      <td>datacommons_id</td>\n",
       "      <td>STRING</td>\n",
       "    </tr>\n",
       "    <tr>\n",
       "      <th>...</th>\n",
       "      <td>...</td>\n",
       "      <td>...</td>\n",
       "    </tr>\n",
       "    <tr>\n",
       "      <th>696</th>\n",
       "      <td>new_persons_fully_vaccinated_janssen</td>\n",
       "      <td>INT64</td>\n",
       "    </tr>\n",
       "    <tr>\n",
       "      <th>697</th>\n",
       "      <td>cumulative_persons_fully_vaccinated_janssen</td>\n",
       "      <td>INT64</td>\n",
       "    </tr>\n",
       "    <tr>\n",
       "      <th>698</th>\n",
       "      <td>new_vaccine_doses_administered_janssen</td>\n",
       "      <td>INT64</td>\n",
       "    </tr>\n",
       "    <tr>\n",
       "      <th>699</th>\n",
       "      <td>cumulative_vaccine_doses_administered_janssen</td>\n",
       "      <td>INT64</td>\n",
       "    </tr>\n",
       "    <tr>\n",
       "      <th>700</th>\n",
       "      <td>location_geometry</td>\n",
       "      <td>GEOGRAPHY</td>\n",
       "    </tr>\n",
       "  </tbody>\n",
       "</table>\n",
       "<p>701 rows × 2 columns</p>\n",
       "</div>"
      ]
     },
     "execution_count": 497,
     "metadata": {},
     "output_type": "execute_result"
    }
   ],
   "execution_count": 497
  },
  {
   "metadata": {
    "ExecuteTime": {
     "end_time": "2025-03-21T02:33:09.971256Z",
     "start_time": "2025-03-21T02:33:07.481459Z"
    }
   },
   "cell_type": "code",
   "source": [
    "query = ('SELECT date FROM `bigquery-public-data.covid19_open_data.covid19_open_data` order by date asc limit 1'\n",
    "          )\n",
    "client.query(query).result().to_dataframe()"
   ],
   "id": "252a4ff04cf1f2b1",
   "outputs": [
    {
     "data": {
      "text/plain": [
       "         date\n",
       "0  2020-01-01"
      ],
      "text/html": [
       "<div>\n",
       "<style scoped>\n",
       "    .dataframe tbody tr th:only-of-type {\n",
       "        vertical-align: middle;\n",
       "    }\n",
       "\n",
       "    .dataframe tbody tr th {\n",
       "        vertical-align: top;\n",
       "    }\n",
       "\n",
       "    .dataframe thead th {\n",
       "        text-align: right;\n",
       "    }\n",
       "</style>\n",
       "<table border=\"1\" class=\"dataframe\">\n",
       "  <thead>\n",
       "    <tr style=\"text-align: right;\">\n",
       "      <th></th>\n",
       "      <th>date</th>\n",
       "    </tr>\n",
       "  </thead>\n",
       "  <tbody>\n",
       "    <tr>\n",
       "      <th>0</th>\n",
       "      <td>2020-01-01</td>\n",
       "    </tr>\n",
       "  </tbody>\n",
       "</table>\n",
       "</div>"
      ]
     },
     "execution_count": 498,
     "metadata": {},
     "output_type": "execute_result"
    }
   ],
   "execution_count": 498
  },
  {
   "metadata": {
    "ExecuteTime": {
     "end_time": "2025-03-21T02:33:12.480612Z",
     "start_time": "2025-03-21T02:33:10.081047Z"
    }
   },
   "cell_type": "code",
   "source": [
    "query = ('SELECT date FROM `bigquery-public-data.covid19_open_data.covid19_open_data` where new_confirmed > 0 order by date asc limit 1'\n",
    "          )\n",
    "client.query(query).result().to_dataframe()"
   ],
   "id": "c0c2dc09b701f21c",
   "outputs": [
    {
     "data": {
      "text/plain": [
       "         date\n",
       "0  2020-01-01"
      ],
      "text/html": [
       "<div>\n",
       "<style scoped>\n",
       "    .dataframe tbody tr th:only-of-type {\n",
       "        vertical-align: middle;\n",
       "    }\n",
       "\n",
       "    .dataframe tbody tr th {\n",
       "        vertical-align: top;\n",
       "    }\n",
       "\n",
       "    .dataframe thead th {\n",
       "        text-align: right;\n",
       "    }\n",
       "</style>\n",
       "<table border=\"1\" class=\"dataframe\">\n",
       "  <thead>\n",
       "    <tr style=\"text-align: right;\">\n",
       "      <th></th>\n",
       "      <th>date</th>\n",
       "    </tr>\n",
       "  </thead>\n",
       "  <tbody>\n",
       "    <tr>\n",
       "      <th>0</th>\n",
       "      <td>2020-01-01</td>\n",
       "    </tr>\n",
       "  </tbody>\n",
       "</table>\n",
       "</div>"
      ]
     },
     "execution_count": 499,
     "metadata": {},
     "output_type": "execute_result"
    }
   ],
   "execution_count": 499
  },
  {
   "metadata": {
    "ExecuteTime": {
     "end_time": "2025-03-21T02:33:14.570002Z",
     "start_time": "2025-03-21T02:33:12.556052Z"
    }
   },
   "cell_type": "code",
   "source": [
    "query = ('SELECT date FROM `bigquery-public-data.covid19_open_data.covid19_open_data` where new_confirmed > 0 order by date desc limit 1'\n",
    "          )\n",
    "client.query(query).result().to_dataframe()"
   ],
   "id": "46beb039ef3f8c7d",
   "outputs": [
    {
     "data": {
      "text/plain": [
       "         date\n",
       "0  2022-09-15"
      ],
      "text/html": [
       "<div>\n",
       "<style scoped>\n",
       "    .dataframe tbody tr th:only-of-type {\n",
       "        vertical-align: middle;\n",
       "    }\n",
       "\n",
       "    .dataframe tbody tr th {\n",
       "        vertical-align: top;\n",
       "    }\n",
       "\n",
       "    .dataframe thead th {\n",
       "        text-align: right;\n",
       "    }\n",
       "</style>\n",
       "<table border=\"1\" class=\"dataframe\">\n",
       "  <thead>\n",
       "    <tr style=\"text-align: right;\">\n",
       "      <th></th>\n",
       "      <th>date</th>\n",
       "    </tr>\n",
       "  </thead>\n",
       "  <tbody>\n",
       "    <tr>\n",
       "      <th>0</th>\n",
       "      <td>2022-09-15</td>\n",
       "    </tr>\n",
       "  </tbody>\n",
       "</table>\n",
       "</div>"
      ]
     },
     "execution_count": 500,
     "metadata": {},
     "output_type": "execute_result"
    }
   ],
   "execution_count": 500
  },
  {
   "metadata": {
    "ExecuteTime": {
     "end_time": "2025-03-21T02:33:16.724408Z",
     "start_time": "2025-03-21T02:33:14.645110Z"
    }
   },
   "cell_type": "code",
   "source": [
    "query = ('SELECT date FROM `bigquery-public-data.covid19_open_data.covid19_open_data` where new_deceased > 0 order by date asc limit 1'\n",
    "          )\n",
    "client.query(query).result().to_dataframe()"
   ],
   "id": "a1bf052eddefde16",
   "outputs": [
    {
     "data": {
      "text/plain": [
       "         date\n",
       "0  2020-01-02"
      ],
      "text/html": [
       "<div>\n",
       "<style scoped>\n",
       "    .dataframe tbody tr th:only-of-type {\n",
       "        vertical-align: middle;\n",
       "    }\n",
       "\n",
       "    .dataframe tbody tr th {\n",
       "        vertical-align: top;\n",
       "    }\n",
       "\n",
       "    .dataframe thead th {\n",
       "        text-align: right;\n",
       "    }\n",
       "</style>\n",
       "<table border=\"1\" class=\"dataframe\">\n",
       "  <thead>\n",
       "    <tr style=\"text-align: right;\">\n",
       "      <th></th>\n",
       "      <th>date</th>\n",
       "    </tr>\n",
       "  </thead>\n",
       "  <tbody>\n",
       "    <tr>\n",
       "      <th>0</th>\n",
       "      <td>2020-01-02</td>\n",
       "    </tr>\n",
       "  </tbody>\n",
       "</table>\n",
       "</div>"
      ]
     },
     "execution_count": 501,
     "metadata": {},
     "output_type": "execute_result"
    }
   ],
   "execution_count": 501
  },
  {
   "metadata": {
    "ExecuteTime": {
     "end_time": "2025-03-21T02:33:19.204016Z",
     "start_time": "2025-03-21T02:33:16.791134Z"
    }
   },
   "cell_type": "code",
   "source": [
    "query = ('SELECT date FROM `bigquery-public-data.covid19_open_data.covid19_open_data` where new_deceased > 0 order by date desc limit 1'\n",
    "          )\n",
    "client.query(query).result().to_dataframe()"
   ],
   "id": "20dbc486a0ab6133",
   "outputs": [
    {
     "data": {
      "text/plain": [
       "         date\n",
       "0  2022-09-15"
      ],
      "text/html": [
       "<div>\n",
       "<style scoped>\n",
       "    .dataframe tbody tr th:only-of-type {\n",
       "        vertical-align: middle;\n",
       "    }\n",
       "\n",
       "    .dataframe tbody tr th {\n",
       "        vertical-align: top;\n",
       "    }\n",
       "\n",
       "    .dataframe thead th {\n",
       "        text-align: right;\n",
       "    }\n",
       "</style>\n",
       "<table border=\"1\" class=\"dataframe\">\n",
       "  <thead>\n",
       "    <tr style=\"text-align: right;\">\n",
       "      <th></th>\n",
       "      <th>date</th>\n",
       "    </tr>\n",
       "  </thead>\n",
       "  <tbody>\n",
       "    <tr>\n",
       "      <th>0</th>\n",
       "      <td>2022-09-15</td>\n",
       "    </tr>\n",
       "  </tbody>\n",
       "</table>\n",
       "</div>"
      ]
     },
     "execution_count": 502,
     "metadata": {},
     "output_type": "execute_result"
    }
   ],
   "execution_count": 502
  },
  {
   "metadata": {
    "ExecuteTime": {
     "end_time": "2025-03-21T02:33:21.948158Z",
     "start_time": "2025-03-21T02:33:19.274203Z"
    }
   },
   "cell_type": "code",
   "source": [
    "query = ('SELECT date FROM `bigquery-public-data.covid19_open_data.covid19_open_data` where new_persons_vaccinated > 0 order by date asc limit 1')\n",
    "\n",
    "client.query(query).result().to_dataframe()"
   ],
   "id": "85400a274b83c247",
   "outputs": [
    {
     "data": {
      "text/plain": [
       "         date\n",
       "0  2020-12-07"
      ],
      "text/html": [
       "<div>\n",
       "<style scoped>\n",
       "    .dataframe tbody tr th:only-of-type {\n",
       "        vertical-align: middle;\n",
       "    }\n",
       "\n",
       "    .dataframe tbody tr th {\n",
       "        vertical-align: top;\n",
       "    }\n",
       "\n",
       "    .dataframe thead th {\n",
       "        text-align: right;\n",
       "    }\n",
       "</style>\n",
       "<table border=\"1\" class=\"dataframe\">\n",
       "  <thead>\n",
       "    <tr style=\"text-align: right;\">\n",
       "      <th></th>\n",
       "      <th>date</th>\n",
       "    </tr>\n",
       "  </thead>\n",
       "  <tbody>\n",
       "    <tr>\n",
       "      <th>0</th>\n",
       "      <td>2020-12-07</td>\n",
       "    </tr>\n",
       "  </tbody>\n",
       "</table>\n",
       "</div>"
      ]
     },
     "execution_count": 503,
     "metadata": {},
     "output_type": "execute_result"
    }
   ],
   "execution_count": 503
  },
  {
   "metadata": {
    "ExecuteTime": {
     "end_time": "2025-03-21T02:33:24.262534Z",
     "start_time": "2025-03-21T02:33:22.065454Z"
    }
   },
   "cell_type": "code",
   "source": [
    "query = ('SELECT date FROM `bigquery-public-data.covid19_open_data.covid19_open_data` where new_persons_vaccinated > 0 order by date desc limit 1'\n",
    "          )\n",
    "client.query(query).result().to_dataframe()"
   ],
   "id": "2843124b939f7dd6",
   "outputs": [
    {
     "data": {
      "text/plain": [
       "         date\n",
       "0  2022-09-14"
      ],
      "text/html": [
       "<div>\n",
       "<style scoped>\n",
       "    .dataframe tbody tr th:only-of-type {\n",
       "        vertical-align: middle;\n",
       "    }\n",
       "\n",
       "    .dataframe tbody tr th {\n",
       "        vertical-align: top;\n",
       "    }\n",
       "\n",
       "    .dataframe thead th {\n",
       "        text-align: right;\n",
       "    }\n",
       "</style>\n",
       "<table border=\"1\" class=\"dataframe\">\n",
       "  <thead>\n",
       "    <tr style=\"text-align: right;\">\n",
       "      <th></th>\n",
       "      <th>date</th>\n",
       "    </tr>\n",
       "  </thead>\n",
       "  <tbody>\n",
       "    <tr>\n",
       "      <th>0</th>\n",
       "      <td>2022-09-14</td>\n",
       "    </tr>\n",
       "  </tbody>\n",
       "</table>\n",
       "</div>"
      ]
     },
     "execution_count": 504,
     "metadata": {},
     "output_type": "execute_result"
    }
   ],
   "execution_count": 504
  },
  {
   "metadata": {
    "ExecuteTime": {
     "end_time": "2025-03-21T02:33:26.856354Z",
     "start_time": "2025-03-21T02:33:24.329341Z"
    }
   },
   "cell_type": "code",
   "source": [
    "query = ('SELECT count(new_deceased) FROM `bigquery-public-data.covid19_open_data.covid19_open_data` where new_deceased < 0'\n",
    "          )\n",
    "client.query(query).result().to_dataframe()"
   ],
   "id": "a3da8fe94bfaac3e",
   "outputs": [
    {
     "data": {
      "text/plain": [
       "     f0_\n",
       "0  27586"
      ],
      "text/html": [
       "<div>\n",
       "<style scoped>\n",
       "    .dataframe tbody tr th:only-of-type {\n",
       "        vertical-align: middle;\n",
       "    }\n",
       "\n",
       "    .dataframe tbody tr th {\n",
       "        vertical-align: top;\n",
       "    }\n",
       "\n",
       "    .dataframe thead th {\n",
       "        text-align: right;\n",
       "    }\n",
       "</style>\n",
       "<table border=\"1\" class=\"dataframe\">\n",
       "  <thead>\n",
       "    <tr style=\"text-align: right;\">\n",
       "      <th></th>\n",
       "      <th>f0_</th>\n",
       "    </tr>\n",
       "  </thead>\n",
       "  <tbody>\n",
       "    <tr>\n",
       "      <th>0</th>\n",
       "      <td>27586</td>\n",
       "    </tr>\n",
       "  </tbody>\n",
       "</table>\n",
       "</div>"
      ]
     },
     "execution_count": 505,
     "metadata": {},
     "output_type": "execute_result"
    }
   ],
   "execution_count": 505
  },
  {
   "metadata": {
    "ExecuteTime": {
     "end_time": "2025-03-21T02:33:29.132067Z",
     "start_time": "2025-03-21T02:33:26.923234Z"
    }
   },
   "cell_type": "code",
   "source": [
    "query = ('SELECT COUNT(new_confirmed) FROM `bigquery-public-data.covid19_open_data.covid19_open_data` where new_confirmed < 0'\n",
    "          )\n",
    "client.query(query).result().to_dataframe()"
   ],
   "id": "e846a3aa19aafb11",
   "outputs": [
    {
     "data": {
      "text/plain": [
       "      f0_\n",
       "0  102199"
      ],
      "text/html": [
       "<div>\n",
       "<style scoped>\n",
       "    .dataframe tbody tr th:only-of-type {\n",
       "        vertical-align: middle;\n",
       "    }\n",
       "\n",
       "    .dataframe tbody tr th {\n",
       "        vertical-align: top;\n",
       "    }\n",
       "\n",
       "    .dataframe thead th {\n",
       "        text-align: right;\n",
       "    }\n",
       "</style>\n",
       "<table border=\"1\" class=\"dataframe\">\n",
       "  <thead>\n",
       "    <tr style=\"text-align: right;\">\n",
       "      <th></th>\n",
       "      <th>f0_</th>\n",
       "    </tr>\n",
       "  </thead>\n",
       "  <tbody>\n",
       "    <tr>\n",
       "      <th>0</th>\n",
       "      <td>102199</td>\n",
       "    </tr>\n",
       "  </tbody>\n",
       "</table>\n",
       "</div>"
      ]
     },
     "execution_count": 506,
     "metadata": {},
     "output_type": "execute_result"
    }
   ],
   "execution_count": 506
  },
  {
   "metadata": {
    "ExecuteTime": {
     "end_time": "2025-03-21T02:33:31.426447Z",
     "start_time": "2025-03-21T02:33:29.201987Z"
    }
   },
   "cell_type": "code",
   "source": [
    "query = ('SELECT count(distinct aggregation_level) FROM `bigquery-public-data.covid19_open_data.covid19_open_data`')\n",
    "client.query(query).result().to_dataframe()\n"
   ],
   "id": "768f064782b13bf3",
   "outputs": [
    {
     "data": {
      "text/plain": [
       "   f0_\n",
       "0    4"
      ],
      "text/html": [
       "<div>\n",
       "<style scoped>\n",
       "    .dataframe tbody tr th:only-of-type {\n",
       "        vertical-align: middle;\n",
       "    }\n",
       "\n",
       "    .dataframe tbody tr th {\n",
       "        vertical-align: top;\n",
       "    }\n",
       "\n",
       "    .dataframe thead th {\n",
       "        text-align: right;\n",
       "    }\n",
       "</style>\n",
       "<table border=\"1\" class=\"dataframe\">\n",
       "  <thead>\n",
       "    <tr style=\"text-align: right;\">\n",
       "      <th></th>\n",
       "      <th>f0_</th>\n",
       "    </tr>\n",
       "  </thead>\n",
       "  <tbody>\n",
       "    <tr>\n",
       "      <th>0</th>\n",
       "      <td>4</td>\n",
       "    </tr>\n",
       "  </tbody>\n",
       "</table>\n",
       "</div>"
      ]
     },
     "execution_count": 507,
     "metadata": {},
     "output_type": "execute_result"
    }
   ],
   "execution_count": 507
  },
  {
   "metadata": {
    "ExecuteTime": {
     "end_time": "2025-03-21T02:33:33.699109Z",
     "start_time": "2025-03-21T02:33:31.502814Z"
    }
   },
   "cell_type": "code",
   "source": [
    "query = ('SELECT MIN(new_confirmed) AS max_min FROM `bigquery-public-data.covid19_open_data.covid19_open_data` UNION ALL SELECT MAX(new_confirmed) AS max_min FROM `bigquery-public-data.covid19_open_data.covid19_open_data`;')\n",
    "client.query(query).result().to_dataframe()"
   ],
   "id": "3dd6fcc633caa305",
   "outputs": [
    {
     "data": {
      "text/plain": [
       "    max_min\n",
       "0   5047094\n",
       "1  -5045418"
      ],
      "text/html": [
       "<div>\n",
       "<style scoped>\n",
       "    .dataframe tbody tr th:only-of-type {\n",
       "        vertical-align: middle;\n",
       "    }\n",
       "\n",
       "    .dataframe tbody tr th {\n",
       "        vertical-align: top;\n",
       "    }\n",
       "\n",
       "    .dataframe thead th {\n",
       "        text-align: right;\n",
       "    }\n",
       "</style>\n",
       "<table border=\"1\" class=\"dataframe\">\n",
       "  <thead>\n",
       "    <tr style=\"text-align: right;\">\n",
       "      <th></th>\n",
       "      <th>max_min</th>\n",
       "    </tr>\n",
       "  </thead>\n",
       "  <tbody>\n",
       "    <tr>\n",
       "      <th>0</th>\n",
       "      <td>5047094</td>\n",
       "    </tr>\n",
       "    <tr>\n",
       "      <th>1</th>\n",
       "      <td>-5045418</td>\n",
       "    </tr>\n",
       "  </tbody>\n",
       "</table>\n",
       "</div>"
      ]
     },
     "execution_count": 508,
     "metadata": {},
     "output_type": "execute_result"
    }
   ],
   "execution_count": 508
  },
  {
   "metadata": {
    "ExecuteTime": {
     "end_time": "2025-03-21T02:33:36.056771Z",
     "start_time": "2025-03-21T02:33:33.764791Z"
    }
   },
   "cell_type": "code",
   "source": [
    "query = ('SELECT MIN(new_deceased) AS max_min FROM `bigquery-public-data.covid19_open_data.covid19_open_data` UNION ALL SELECT MAX(new_deceased) AS max_min FROM `bigquery-public-data.covid19_open_data.covid19_open_data`;')\n",
    "client.query(query).result().to_dataframe()"
   ],
   "id": "eb68b6a26acf02b0",
   "outputs": [
    {
     "data": {
      "text/plain": [
       "   max_min\n",
       "0    63830\n",
       "1   -63811"
      ],
      "text/html": [
       "<div>\n",
       "<style scoped>\n",
       "    .dataframe tbody tr th:only-of-type {\n",
       "        vertical-align: middle;\n",
       "    }\n",
       "\n",
       "    .dataframe tbody tr th {\n",
       "        vertical-align: top;\n",
       "    }\n",
       "\n",
       "    .dataframe thead th {\n",
       "        text-align: right;\n",
       "    }\n",
       "</style>\n",
       "<table border=\"1\" class=\"dataframe\">\n",
       "  <thead>\n",
       "    <tr style=\"text-align: right;\">\n",
       "      <th></th>\n",
       "      <th>max_min</th>\n",
       "    </tr>\n",
       "  </thead>\n",
       "  <tbody>\n",
       "    <tr>\n",
       "      <th>0</th>\n",
       "      <td>63830</td>\n",
       "    </tr>\n",
       "    <tr>\n",
       "      <th>1</th>\n",
       "      <td>-63811</td>\n",
       "    </tr>\n",
       "  </tbody>\n",
       "</table>\n",
       "</div>"
      ]
     },
     "execution_count": 509,
     "metadata": {},
     "output_type": "execute_result"
    }
   ],
   "execution_count": 509
  },
  {
   "metadata": {
    "ExecuteTime": {
     "end_time": "2025-03-21T02:33:38.377503Z",
     "start_time": "2025-03-21T02:33:36.122840Z"
    }
   },
   "cell_type": "code",
   "source": [
    "query = ('SELECT MIN(new_persons_vaccinated) AS max_min FROM `bigquery-public-data.covid19_open_data.covid19_open_data` UNION ALL SELECT MAX(new_persons_vaccinated) AS max_min FROM `bigquery-public-data.covid19_open_data.covid19_open_data`;')\n",
    "client.query(query).result().to_dataframe()"
   ],
   "id": "3b4904c14f1a026d",
   "outputs": [
    {
     "data": {
      "text/plain": [
       "     max_min\n",
       "0  450500000\n",
       "1   -9410506"
      ],
      "text/html": [
       "<div>\n",
       "<style scoped>\n",
       "    .dataframe tbody tr th:only-of-type {\n",
       "        vertical-align: middle;\n",
       "    }\n",
       "\n",
       "    .dataframe tbody tr th {\n",
       "        vertical-align: top;\n",
       "    }\n",
       "\n",
       "    .dataframe thead th {\n",
       "        text-align: right;\n",
       "    }\n",
       "</style>\n",
       "<table border=\"1\" class=\"dataframe\">\n",
       "  <thead>\n",
       "    <tr style=\"text-align: right;\">\n",
       "      <th></th>\n",
       "      <th>max_min</th>\n",
       "    </tr>\n",
       "  </thead>\n",
       "  <tbody>\n",
       "    <tr>\n",
       "      <th>0</th>\n",
       "      <td>450500000</td>\n",
       "    </tr>\n",
       "    <tr>\n",
       "      <th>1</th>\n",
       "      <td>-9410506</td>\n",
       "    </tr>\n",
       "  </tbody>\n",
       "</table>\n",
       "</div>"
      ]
     },
     "execution_count": 510,
     "metadata": {},
     "output_type": "execute_result"
    }
   ],
   "execution_count": 510
  },
  {
   "metadata": {
    "ExecuteTime": {
     "end_time": "2025-03-21T02:33:40.819096Z",
     "start_time": "2025-03-21T02:33:38.444189Z"
    }
   },
   "cell_type": "code",
   "source": [
    "query = ('SELECT count(*) FROM `bigquery-public-data.covid19_open_data.covid19_open_data` where new_recovered < 0 and  aggregation_level = 0')\n",
    "client.query(query).result().to_dataframe()"
   ],
   "id": "d38685bcfed17e76",
   "outputs": [
    {
     "data": {
      "text/plain": [
       "   f0_\n",
       "0   50"
      ],
      "text/html": [
       "<div>\n",
       "<style scoped>\n",
       "    .dataframe tbody tr th:only-of-type {\n",
       "        vertical-align: middle;\n",
       "    }\n",
       "\n",
       "    .dataframe tbody tr th {\n",
       "        vertical-align: top;\n",
       "    }\n",
       "\n",
       "    .dataframe thead th {\n",
       "        text-align: right;\n",
       "    }\n",
       "</style>\n",
       "<table border=\"1\" class=\"dataframe\">\n",
       "  <thead>\n",
       "    <tr style=\"text-align: right;\">\n",
       "      <th></th>\n",
       "      <th>f0_</th>\n",
       "    </tr>\n",
       "  </thead>\n",
       "  <tbody>\n",
       "    <tr>\n",
       "      <th>0</th>\n",
       "      <td>50</td>\n",
       "    </tr>\n",
       "  </tbody>\n",
       "</table>\n",
       "</div>"
      ]
     },
     "execution_count": 511,
     "metadata": {},
     "output_type": "execute_result"
    }
   ],
   "execution_count": 511
  },
  {
   "metadata": {
    "ExecuteTime": {
     "end_time": "2025-03-21T02:33:42.847390Z",
     "start_time": "2025-03-21T02:33:40.885302Z"
    }
   },
   "cell_type": "code",
   "source": [
    "query = ('SELECT count(*) FROM `bigquery-public-data.covid19_open_data.covid19_open_data` where new_recovered < 0 and  aggregation_level = 1')\n",
    "client.query(query).result().to_dataframe()"
   ],
   "id": "f312cefb740927c8",
   "outputs": [
    {
     "data": {
      "text/plain": [
       "   f0_\n",
       "0  599"
      ],
      "text/html": [
       "<div>\n",
       "<style scoped>\n",
       "    .dataframe tbody tr th:only-of-type {\n",
       "        vertical-align: middle;\n",
       "    }\n",
       "\n",
       "    .dataframe tbody tr th {\n",
       "        vertical-align: top;\n",
       "    }\n",
       "\n",
       "    .dataframe thead th {\n",
       "        text-align: right;\n",
       "    }\n",
       "</style>\n",
       "<table border=\"1\" class=\"dataframe\">\n",
       "  <thead>\n",
       "    <tr style=\"text-align: right;\">\n",
       "      <th></th>\n",
       "      <th>f0_</th>\n",
       "    </tr>\n",
       "  </thead>\n",
       "  <tbody>\n",
       "    <tr>\n",
       "      <th>0</th>\n",
       "      <td>599</td>\n",
       "    </tr>\n",
       "  </tbody>\n",
       "</table>\n",
       "</div>"
      ]
     },
     "execution_count": 512,
     "metadata": {},
     "output_type": "execute_result"
    }
   ],
   "execution_count": 512
  },
  {
   "metadata": {
    "ExecuteTime": {
     "end_time": "2025-03-21T02:33:45.028764Z",
     "start_time": "2025-03-21T02:33:42.911354Z"
    }
   },
   "cell_type": "code",
   "source": [
    "query = ('SELECT COUNT(new_deceased) FROM `bigquery-public-data.covid19_open_data.covid19_open_data` where new_deceased < 0')\n",
    "client.query(query).result().to_dataframe()\n"
   ],
   "id": "f83f2ab51ca40c2f",
   "outputs": [
    {
     "data": {
      "text/plain": [
       "     f0_\n",
       "0  27586"
      ],
      "text/html": [
       "<div>\n",
       "<style scoped>\n",
       "    .dataframe tbody tr th:only-of-type {\n",
       "        vertical-align: middle;\n",
       "    }\n",
       "\n",
       "    .dataframe tbody tr th {\n",
       "        vertical-align: top;\n",
       "    }\n",
       "\n",
       "    .dataframe thead th {\n",
       "        text-align: right;\n",
       "    }\n",
       "</style>\n",
       "<table border=\"1\" class=\"dataframe\">\n",
       "  <thead>\n",
       "    <tr style=\"text-align: right;\">\n",
       "      <th></th>\n",
       "      <th>f0_</th>\n",
       "    </tr>\n",
       "  </thead>\n",
       "  <tbody>\n",
       "    <tr>\n",
       "      <th>0</th>\n",
       "      <td>27586</td>\n",
       "    </tr>\n",
       "  </tbody>\n",
       "</table>\n",
       "</div>"
      ]
     },
     "execution_count": 513,
     "metadata": {},
     "output_type": "execute_result"
    }
   ],
   "execution_count": 513
  },
  {
   "metadata": {
    "ExecuteTime": {
     "end_time": "2025-03-21T02:33:47.237103Z",
     "start_time": "2025-03-21T02:33:45.093554Z"
    }
   },
   "cell_type": "code",
   "source": [
    "query = ('SELECT count(*) FROM `bigquery-public-data.covid19_open_data.covid19_open_data` where new_recovered < 0 and  aggregation_level = 3')\n",
    "client.query(query).result().to_dataframe()"
   ],
   "id": "ee9747c2ebfbebdc",
   "outputs": [
    {
     "data": {
      "text/plain": [
       "   f0_\n",
       "0    1"
      ],
      "text/html": [
       "<div>\n",
       "<style scoped>\n",
       "    .dataframe tbody tr th:only-of-type {\n",
       "        vertical-align: middle;\n",
       "    }\n",
       "\n",
       "    .dataframe tbody tr th {\n",
       "        vertical-align: top;\n",
       "    }\n",
       "\n",
       "    .dataframe thead th {\n",
       "        text-align: right;\n",
       "    }\n",
       "</style>\n",
       "<table border=\"1\" class=\"dataframe\">\n",
       "  <thead>\n",
       "    <tr style=\"text-align: right;\">\n",
       "      <th></th>\n",
       "      <th>f0_</th>\n",
       "    </tr>\n",
       "  </thead>\n",
       "  <tbody>\n",
       "    <tr>\n",
       "      <th>0</th>\n",
       "      <td>1</td>\n",
       "    </tr>\n",
       "  </tbody>\n",
       "</table>\n",
       "</div>"
      ]
     },
     "execution_count": 514,
     "metadata": {},
     "output_type": "execute_result"
    }
   ],
   "execution_count": 514
  },
  {
   "metadata": {},
   "cell_type": "markdown",
   "source": "Część 4",
   "id": "69e504aae79a4e63"
  },
  {
   "metadata": {
    "ExecuteTime": {
     "end_time": "2025-03-21T02:33:49.615149Z",
     "start_time": "2025-03-21T02:33:47.301519Z"
    }
   },
   "cell_type": "code",
   "source": [
    "# 4.1\n",
    "query = 'select distinct iso_3166_1_alpha_3, country_name , population, population_density, area_sq_km, gdp_usd from bigquery-public-data.covid19_open_data.covid19_open_data where aggregation_level = 0 and population is not null and iso_3166_1_alpha_3 is not null and area_sq_km is not null'\n",
    "df_4_1 = client.query(query).result().to_dataframe()\n",
    "df_4_1.dropna(subset=['population', 'iso_3166_1_alpha_3'], inplace=True)\n",
    "\n",
    "columns_to_convert = ['iso_3166_1_alpha_3', 'country_name']\n",
    "df_4_1[columns_to_convert] = df_4_1[columns_to_convert].astype(\"string\")\n",
    "df_4_1['population'] = pd.to_numeric(df_4_1['population'], errors='coerce')\n",
    "df_4_1['area_sq_km'] = pd.to_numeric(df_4_1['area_sq_km'], errors='coerce')\n",
    "df_4_1['population_density'] = pd.to_numeric(df_4_1['population_density'], errors='coerce')\n",
    "df_4_1['gdp_usd'] = pd.to_numeric(df_4_1['gdp_usd'], errors='coerce')\n",
    "cols_to_0 = [ 'population_density', 'gdp_usd']\n",
    "df_4_1[cols_to_0] = df_4_1[cols_to_0].fillna(0)\n",
    "\n",
    "df_4_1.to_csv('results/general_covid19_4_1.csv', index=False)"
   ],
   "id": "30e30d89ce35410f",
   "outputs": [],
   "execution_count": 515
  },
  {
   "metadata": {
    "ExecuteTime": {
     "end_time": "2025-03-21T02:33:53.789394Z",
     "start_time": "2025-03-21T02:33:49.884104Z"
    }
   },
   "cell_type": "code",
   "source": [
    "# 4.2\n",
    "query = 'select date, country_name, new_confirmed, cumulative_confirmed,  from bigquery-public-data.covid19_open_data.covid19_open_data where aggregation_level = 0 and population is not null and iso_3166_1_alpha_3 is not null and area_sq_km is not null'\n",
    "df_4_2 = client.query(query).result().to_dataframe()\n",
    "\n",
    "df_4_2['date'] = pd.to_datetime(df_4_2['date'], errors='coerce')\n",
    "df_4_2.dropna(subset=['date'], inplace=True)\n",
    "cols_to_int = ['cumulative_confirmed', 'new_confirmed']\n",
    "df_4_2[cols_to_int] = df_4_2[cols_to_int].apply(pd.to_numeric, errors='coerce').astype('Int64')\n",
    "columns_to_check = ['new_confirmed', 'cumulative_confirmed']\n",
    "df_4_2.dropna(subset=columns_to_check, how='all', inplace=True)\n",
    "df_4_2[cols_to_int] = df_4_2[cols_to_int].fillna(0)\n",
    "df_4_2.to_csv('results/confirmed_covid_4_2.csv', index=False)\n"
   ],
   "id": "ccc1e3e06d87ec3b",
   "outputs": [],
   "execution_count": 516
  },
  {
   "metadata": {
    "ExecuteTime": {
     "end_time": "2025-03-21T02:33:57.847463Z",
     "start_time": "2025-03-21T02:33:53.882865Z"
    }
   },
   "cell_type": "code",
   "source": [
    "# 4.3\n",
    "query = 'select date, country_name, population , new_deceased, cumulative_deceased from bigquery-public-data.covid19_open_data.covid19_open_data where aggregation_level = 0 and population is not null and iso_3166_1_alpha_3 is not null and area_sq_km is not null'\n",
    "df_4_3 = client.query(query).result().to_dataframe()\n",
    "df_4_3.dropna(subset=['date'], inplace=True)\n",
    "\n",
    "columns_to_check = ['new_deceased', 'cumulative_deceased']\n",
    "df_4_3.dropna(subset=columns_to_check, how='all', inplace=True)\n",
    "\n",
    "df_4_3['date'] = pd.to_datetime(df_4_3['date'], errors='coerce')\n",
    "cols_to_int = ['cumulative_deceased', 'new_deceased']\n",
    "df_4_3[cols_to_int] = df_4_3[cols_to_int].apply(pd.to_numeric, errors='coerce').astype('Int64')\n",
    "df_4_3 = df_4_3.fillna(0)\n",
    "df_4_3.to_csv('results/deceased_covid_4_3.csv', index=False)"
   ],
   "id": "3835208c15ddd879",
   "outputs": [],
   "execution_count": 517
  },
  {
   "metadata": {
    "ExecuteTime": {
     "end_time": "2025-03-21T02:34:02.114891Z",
     "start_time": "2025-03-21T02:33:57.853407Z"
    }
   },
   "cell_type": "code",
   "source": [
    "import numpy as np\n",
    "\n",
    "#4.4\n",
    "query = 'select date, country_name, cumulative_persons_vaccinated, new_persons_vaccinated, cumulative_persons_fully_vaccinated, new_persons_fully_vaccinated, population from bigquery-public-data.covid19_open_data.covid19_open_data where aggregation_level = 0 and population is not null and iso_3166_1_alpha_3 is not null and area_sq_km is not null'\n",
    "df_4_4 = client.query(query).result().to_dataframe()\n",
    "df_4_4.dropna(subset=['date'], inplace=True)\n",
    "\n",
    "df_4_4['date'] = pd.to_datetime(df_4_4['date'], errors='coerce')\n",
    "cols_to_int = ['cumulative_persons_vaccinated', 'new_persons_vaccinated', 'cumulative_persons_fully_vaccinated', 'new_persons_fully_vaccinated']\n",
    "df_4_4[cols_to_int] = df_4_4[cols_to_int].apply(pd.to_numeric, errors='coerce').astype('Int64')\n",
    "df_4_4[cols_to_int] = df_4_4[cols_to_int].fillna(0)\n",
    "df_4_4[\"vaccination_rate\"] = np.where(\n",
    "    (df_4_4['cumulative_persons_fully_vaccinated'] == 0) & (df_4_4['population'] == 0),\n",
    "    0,\n",
    "    (df_4_4['cumulative_persons_fully_vaccinated'] / df_4_4['population']) * 100\n",
    ")\n",
    "df_4_4.to_csv('results/vaccination_covid_4_4.csv', index=False)"
   ],
   "id": "c425b4adeda89cdf",
   "outputs": [],
   "execution_count": 518
  },
  {
   "metadata": {
    "ExecuteTime": {
     "end_time": "2025-03-21T02:34:06.751159Z",
     "start_time": "2025-03-21T02:34:02.200387Z"
    }
   },
   "cell_type": "code",
   "source": [
    "# 4.5\n",
    "query = 'select date, country_name, population, population_density, cumulative_deceased from bigquery-public-data.covid19_open_data.covid19_open_data where aggregation_level = 0 and population is not null and iso_3166_1_alpha_3 is not null and area_sq_km is not null'\n",
    "df_4_5 = client.query(query).result().to_dataframe()\n",
    "df_4_5['date'] = pd.to_datetime(df_4_5['date'], errors='coerce')\n",
    "cols_to_int = ['cumulative_deceased', 'population']\n",
    "df_4_5[cols_to_int] = df_4_5[cols_to_int].apply(pd.to_numeric, errors='coerce').astype('Int64')\n",
    "df_4_5[cols_to_int] = df_4_5[cols_to_int].fillna(0)\n",
    "df_4_5['population_density'] = df_4_5['population_density'].fillna(0).astype(float)\n",
    "\n",
    "df_4_5[\"fatality_rate\"] = np.where(\n",
    "    (df_4_5['cumulative_deceased'] == 0) & (df_4_5['population'] == 0),\n",
    "    0,\n",
    "    (df_4_5['cumulative_deceased'] / df_4_5['population']) * 100\n",
    ")\n",
    "df_4_5.to_csv('results/density_covid_4_5.csv', index=False)"
   ],
   "id": "a86754af42d5266d",
   "outputs": [],
   "execution_count": 519
  },
  {
   "metadata": {},
   "cell_type": "markdown",
   "source": "Część 5",
   "id": "95e685ec3e70c6e5"
  },
  {
   "metadata": {
    "ExecuteTime": {
     "end_time": "2025-03-21T02:34:07.359845Z",
     "start_time": "2025-03-21T02:34:06.837003Z"
    }
   },
   "cell_type": "code",
   "source": [
    "df_5_1 = df_4_2.merge(df_4_3, on=['country_name', 'date'], how='outer')\n",
    "df_5_1 = df_5_1.merge(df_4_4, on=['country_name', 'date'], how='outer')\n",
    "df_5_1 = df_5_1.merge(df_4_5, on=['country_name', 'date'], how='outer')"
   ],
   "id": "b68d3ce1fd651753",
   "outputs": [],
   "execution_count": 520
  },
  {
   "metadata": {
    "ExecuteTime": {
     "end_time": "2025-03-21T02:34:07.462745Z",
     "start_time": "2025-03-21T02:34:07.447437Z"
    }
   },
   "cell_type": "code",
   "source": [
    "temp = df_5_1[df_5_1['new_confirmed'].isna()]\n",
    "top_12_names = temp['country_name'].value_counts().head(12).index.tolist()\n",
    "top_12_names.append('British Indian Ocean Territory')"
   ],
   "id": "56ac3a8b93c5bd58",
   "outputs": [],
   "execution_count": 521
  },
  {
   "metadata": {
    "ExecuteTime": {
     "end_time": "2025-03-21T02:34:09.217170Z",
     "start_time": "2025-03-21T02:34:07.558571Z"
    }
   },
   "cell_type": "code",
   "source": [
    "df_5_1 = df_5_1[~df_5_1['country_name'].isin(top_12_names)]\n",
    "df_5_1['cumulative_deceased'] = df_5_1['cumulative_deceased_y']\n",
    "df_5_1 = df_5_1.drop(columns=['population_x', 'population_y','cumulative_deceased_x', 'cumulative_deceased_y'])\n",
    "df_5_1['new_confirmed'] = df_5_1['new_confirmed'].fillna(0)\n",
    "df_5_1['new_deceased'] = df_5_1['new_deceased'].fillna(0)\n",
    "df_5_1['cumulative_confirmed'] = df_5_1['cumulative_confirmed'].fillna(0)\n",
    "df_5_1.to_csv('results/covid_5_1.csv', index=False)\n"
   ],
   "id": "eb1e52a5e2b602cd",
   "outputs": [],
   "execution_count": 522
  },
  {
   "metadata": {
    "ExecuteTime": {
     "end_time": "2025-03-21T02:34:09.314829Z",
     "start_time": "2025-03-21T02:34:09.307184Z"
    }
   },
   "cell_type": "code",
   "source": [
    "df_5_2 = df_4_1[~df_4_1['country_name'].isin(top_12_names)]\n",
    "df_5_2 = df_5_2.rename(columns={'iso_3166_1_alpha_3': 'country_code'})\n",
    "df_5_2.to_csv('results/covid_5_2.csv', index=False)\n"
   ],
   "id": "44fec5ff3df6f961",
   "outputs": [],
   "execution_count": 523
  },
  {
   "metadata": {},
   "cell_type": "markdown",
   "source": "Część 6",
   "id": "13007e07285d2a2a"
  },
  {
   "metadata": {
    "ExecuteTime": {
     "end_time": "2025-03-21T02:34:09.508465Z",
     "start_time": "2025-03-21T02:34:09.489087Z"
    }
   },
   "cell_type": "code",
   "source": [
    "gdp = pd.read_csv('gdp.csv')\n",
    "world_countries = pd.read_csv('world_countries.csv')"
   ],
   "id": "6aba1a6623fc730a",
   "outputs": [],
   "execution_count": 524
  },
  {
   "metadata": {
    "ExecuteTime": {
     "end_time": "2025-03-21T02:34:09.522056Z",
     "start_time": "2025-03-21T02:34:09.513145Z"
    }
   },
   "cell_type": "code",
   "source": [
    "world_countries = world_countries.rename(columns={'CCA3': 'country_code'})\n",
    "gdp = gdp.rename(columns={'Country Code': 'country_code'})\n",
    "gdp = gdp.drop_duplicates(subset = ['Country Name', 'Year'])\n",
    "world_countries = world_countries.drop_duplicates(subset = ['Country/Territory'])\n"
   ],
   "id": "da7ab563c11d6fe",
   "outputs": [],
   "execution_count": 525
  },
  {
   "metadata": {
    "ExecuteTime": {
     "end_time": "2025-03-21T02:34:09.622590Z",
     "start_time": "2025-03-21T02:34:09.615167Z"
    }
   },
   "cell_type": "code",
   "source": "df_6_1 = df_5_2.merge(world_countries, on=['country_code'], how='right')",
   "id": "4828b5bcc2001014",
   "outputs": [],
   "execution_count": 526
  },
  {
   "metadata": {
    "ExecuteTime": {
     "end_time": "2025-03-21T02:34:09.824847Z",
     "start_time": "2025-03-21T02:34:09.803418Z"
    }
   },
   "cell_type": "code",
   "source": "df_6_1",
   "id": "2b1fc6097cfcb794",
   "outputs": [
    {
     "data": {
      "text/plain": [
       "    country_code       country_name  population  population_density  \\\n",
       "0            AFG        Afghanistan    38928341              59.627   \n",
       "1            ALB            Albania     2862427              99.600   \n",
       "2            DZA            Algeria    43851043              18.411   \n",
       "3            ASM     American Samoa       55197             275.985   \n",
       "4            AND            Andorra       77265             164.394   \n",
       "..           ...                ...         ...                 ...   \n",
       "229          WLF  Wallis and Futuna       11246              80.329   \n",
       "230          ESH               <NA>        <NA>                 NaN   \n",
       "231          YEM              Yemen    29825968              56.492   \n",
       "232          ZMB             Zambia    18383956              24.730   \n",
       "233          ZWE           Zimbabwe    14862927              38.420   \n",
       "\n",
       "     area_sq_km       gdp_usd  Rank  Country/Territory           Capital  \\\n",
       "0        652860   19101353832    36        Afghanistan             Kabul   \n",
       "1         28750   15278077446   138            Albania            Tirana   \n",
       "2       2381740  169988236398    34            Algeria           Algiers   \n",
       "3           200     636000000   213     American Samoa         Pago Pago   \n",
       "4           470    3154057987   203            Andorra  Andorra la Vella   \n",
       "..          ...           ...   ...                ...               ...   \n",
       "229         274             0   226  Wallis and Futuna          Mata-Utu   \n",
       "230        <NA>          <NA>   172     Western Sahara          El Aaiún   \n",
       "231      527970   27591261663    46              Yemen             Sanaa   \n",
       "232      752610   23064722446    63             Zambia            Lusaka   \n",
       "233      390760   21440758800    74           Zimbabwe            Harare   \n",
       "\n",
       "    Continent  ...  2015 Population  2010 Population  2000 Population  \\\n",
       "0        Asia  ...         33753499         28189672         19542982   \n",
       "1      Europe  ...          2882481          2913399          3182021   \n",
       "2      Africa  ...         39543154         35856344         30774621   \n",
       "3     Oceania  ...            51368            54849            58230   \n",
       "4      Europe  ...            71746            71519            66097   \n",
       "..        ...  ...              ...              ...              ...   \n",
       "229   Oceania  ...            12182            13142            14723   \n",
       "230    Africa  ...           491824           413296           270375   \n",
       "231      Asia  ...         28516545         24743946         18628700   \n",
       "232    Africa  ...         16248230         13792086          9891136   \n",
       "233    Africa  ...         14154937         12839771         11834676   \n",
       "\n",
       "     1990 Population  1980 Population  1970 Population  Area (km²)  \\\n",
       "0           10694796         12486631         10752971      652230   \n",
       "1            3295066          2941651          2324731       28748   \n",
       "2           25518074         18739378         13795915     2381741   \n",
       "3              47818            32886            27075         199   \n",
       "4              53569            35611            19860         468   \n",
       "..               ...              ...              ...         ...   \n",
       "229            13454            11315             9377         142   \n",
       "230           178529           116775            76371      266000   \n",
       "231         13375121          9204938          6843607      527968   \n",
       "232          7686401          5720438          4281671      752612   \n",
       "233         10113893          7049926          5202918      390757   \n",
       "\n",
       "     Density (per km²)  Growth Rate  World Population Percentage  \n",
       "0              63.0587       1.0257                         0.52  \n",
       "1              98.8702       0.9957                         0.04  \n",
       "2              18.8531       1.0164                         0.56  \n",
       "3             222.4774       0.9831                         0.00  \n",
       "4             170.5641       1.0100                         0.00  \n",
       "..                 ...          ...                          ...  \n",
       "229            81.4930       0.9953                         0.00  \n",
       "230             2.1654       1.0184                         0.01  \n",
       "231            63.8232       1.0217                         0.42  \n",
       "232            26.5976       1.0280                         0.25  \n",
       "233            41.7665       1.0204                         0.20  \n",
       "\n",
       "[234 rows x 22 columns]"
      ],
      "text/html": [
       "<div>\n",
       "<style scoped>\n",
       "    .dataframe tbody tr th:only-of-type {\n",
       "        vertical-align: middle;\n",
       "    }\n",
       "\n",
       "    .dataframe tbody tr th {\n",
       "        vertical-align: top;\n",
       "    }\n",
       "\n",
       "    .dataframe thead th {\n",
       "        text-align: right;\n",
       "    }\n",
       "</style>\n",
       "<table border=\"1\" class=\"dataframe\">\n",
       "  <thead>\n",
       "    <tr style=\"text-align: right;\">\n",
       "      <th></th>\n",
       "      <th>country_code</th>\n",
       "      <th>country_name</th>\n",
       "      <th>population</th>\n",
       "      <th>population_density</th>\n",
       "      <th>area_sq_km</th>\n",
       "      <th>gdp_usd</th>\n",
       "      <th>Rank</th>\n",
       "      <th>Country/Territory</th>\n",
       "      <th>Capital</th>\n",
       "      <th>Continent</th>\n",
       "      <th>...</th>\n",
       "      <th>2015 Population</th>\n",
       "      <th>2010 Population</th>\n",
       "      <th>2000 Population</th>\n",
       "      <th>1990 Population</th>\n",
       "      <th>1980 Population</th>\n",
       "      <th>1970 Population</th>\n",
       "      <th>Area (km²)</th>\n",
       "      <th>Density (per km²)</th>\n",
       "      <th>Growth Rate</th>\n",
       "      <th>World Population Percentage</th>\n",
       "    </tr>\n",
       "  </thead>\n",
       "  <tbody>\n",
       "    <tr>\n",
       "      <th>0</th>\n",
       "      <td>AFG</td>\n",
       "      <td>Afghanistan</td>\n",
       "      <td>38928341</td>\n",
       "      <td>59.627</td>\n",
       "      <td>652860</td>\n",
       "      <td>19101353832</td>\n",
       "      <td>36</td>\n",
       "      <td>Afghanistan</td>\n",
       "      <td>Kabul</td>\n",
       "      <td>Asia</td>\n",
       "      <td>...</td>\n",
       "      <td>33753499</td>\n",
       "      <td>28189672</td>\n",
       "      <td>19542982</td>\n",
       "      <td>10694796</td>\n",
       "      <td>12486631</td>\n",
       "      <td>10752971</td>\n",
       "      <td>652230</td>\n",
       "      <td>63.0587</td>\n",
       "      <td>1.0257</td>\n",
       "      <td>0.52</td>\n",
       "    </tr>\n",
       "    <tr>\n",
       "      <th>1</th>\n",
       "      <td>ALB</td>\n",
       "      <td>Albania</td>\n",
       "      <td>2862427</td>\n",
       "      <td>99.600</td>\n",
       "      <td>28750</td>\n",
       "      <td>15278077446</td>\n",
       "      <td>138</td>\n",
       "      <td>Albania</td>\n",
       "      <td>Tirana</td>\n",
       "      <td>Europe</td>\n",
       "      <td>...</td>\n",
       "      <td>2882481</td>\n",
       "      <td>2913399</td>\n",
       "      <td>3182021</td>\n",
       "      <td>3295066</td>\n",
       "      <td>2941651</td>\n",
       "      <td>2324731</td>\n",
       "      <td>28748</td>\n",
       "      <td>98.8702</td>\n",
       "      <td>0.9957</td>\n",
       "      <td>0.04</td>\n",
       "    </tr>\n",
       "    <tr>\n",
       "      <th>2</th>\n",
       "      <td>DZA</td>\n",
       "      <td>Algeria</td>\n",
       "      <td>43851043</td>\n",
       "      <td>18.411</td>\n",
       "      <td>2381740</td>\n",
       "      <td>169988236398</td>\n",
       "      <td>34</td>\n",
       "      <td>Algeria</td>\n",
       "      <td>Algiers</td>\n",
       "      <td>Africa</td>\n",
       "      <td>...</td>\n",
       "      <td>39543154</td>\n",
       "      <td>35856344</td>\n",
       "      <td>30774621</td>\n",
       "      <td>25518074</td>\n",
       "      <td>18739378</td>\n",
       "      <td>13795915</td>\n",
       "      <td>2381741</td>\n",
       "      <td>18.8531</td>\n",
       "      <td>1.0164</td>\n",
       "      <td>0.56</td>\n",
       "    </tr>\n",
       "    <tr>\n",
       "      <th>3</th>\n",
       "      <td>ASM</td>\n",
       "      <td>American Samoa</td>\n",
       "      <td>55197</td>\n",
       "      <td>275.985</td>\n",
       "      <td>200</td>\n",
       "      <td>636000000</td>\n",
       "      <td>213</td>\n",
       "      <td>American Samoa</td>\n",
       "      <td>Pago Pago</td>\n",
       "      <td>Oceania</td>\n",
       "      <td>...</td>\n",
       "      <td>51368</td>\n",
       "      <td>54849</td>\n",
       "      <td>58230</td>\n",
       "      <td>47818</td>\n",
       "      <td>32886</td>\n",
       "      <td>27075</td>\n",
       "      <td>199</td>\n",
       "      <td>222.4774</td>\n",
       "      <td>0.9831</td>\n",
       "      <td>0.00</td>\n",
       "    </tr>\n",
       "    <tr>\n",
       "      <th>4</th>\n",
       "      <td>AND</td>\n",
       "      <td>Andorra</td>\n",
       "      <td>77265</td>\n",
       "      <td>164.394</td>\n",
       "      <td>470</td>\n",
       "      <td>3154057987</td>\n",
       "      <td>203</td>\n",
       "      <td>Andorra</td>\n",
       "      <td>Andorra la Vella</td>\n",
       "      <td>Europe</td>\n",
       "      <td>...</td>\n",
       "      <td>71746</td>\n",
       "      <td>71519</td>\n",
       "      <td>66097</td>\n",
       "      <td>53569</td>\n",
       "      <td>35611</td>\n",
       "      <td>19860</td>\n",
       "      <td>468</td>\n",
       "      <td>170.5641</td>\n",
       "      <td>1.0100</td>\n",
       "      <td>0.00</td>\n",
       "    </tr>\n",
       "    <tr>\n",
       "      <th>...</th>\n",
       "      <td>...</td>\n",
       "      <td>...</td>\n",
       "      <td>...</td>\n",
       "      <td>...</td>\n",
       "      <td>...</td>\n",
       "      <td>...</td>\n",
       "      <td>...</td>\n",
       "      <td>...</td>\n",
       "      <td>...</td>\n",
       "      <td>...</td>\n",
       "      <td>...</td>\n",
       "      <td>...</td>\n",
       "      <td>...</td>\n",
       "      <td>...</td>\n",
       "      <td>...</td>\n",
       "      <td>...</td>\n",
       "      <td>...</td>\n",
       "      <td>...</td>\n",
       "      <td>...</td>\n",
       "      <td>...</td>\n",
       "      <td>...</td>\n",
       "    </tr>\n",
       "    <tr>\n",
       "      <th>229</th>\n",
       "      <td>WLF</td>\n",
       "      <td>Wallis and Futuna</td>\n",
       "      <td>11246</td>\n",
       "      <td>80.329</td>\n",
       "      <td>274</td>\n",
       "      <td>0</td>\n",
       "      <td>226</td>\n",
       "      <td>Wallis and Futuna</td>\n",
       "      <td>Mata-Utu</td>\n",
       "      <td>Oceania</td>\n",
       "      <td>...</td>\n",
       "      <td>12182</td>\n",
       "      <td>13142</td>\n",
       "      <td>14723</td>\n",
       "      <td>13454</td>\n",
       "      <td>11315</td>\n",
       "      <td>9377</td>\n",
       "      <td>142</td>\n",
       "      <td>81.4930</td>\n",
       "      <td>0.9953</td>\n",
       "      <td>0.00</td>\n",
       "    </tr>\n",
       "    <tr>\n",
       "      <th>230</th>\n",
       "      <td>ESH</td>\n",
       "      <td>&lt;NA&gt;</td>\n",
       "      <td>&lt;NA&gt;</td>\n",
       "      <td>NaN</td>\n",
       "      <td>&lt;NA&gt;</td>\n",
       "      <td>&lt;NA&gt;</td>\n",
       "      <td>172</td>\n",
       "      <td>Western Sahara</td>\n",
       "      <td>El Aaiún</td>\n",
       "      <td>Africa</td>\n",
       "      <td>...</td>\n",
       "      <td>491824</td>\n",
       "      <td>413296</td>\n",
       "      <td>270375</td>\n",
       "      <td>178529</td>\n",
       "      <td>116775</td>\n",
       "      <td>76371</td>\n",
       "      <td>266000</td>\n",
       "      <td>2.1654</td>\n",
       "      <td>1.0184</td>\n",
       "      <td>0.01</td>\n",
       "    </tr>\n",
       "    <tr>\n",
       "      <th>231</th>\n",
       "      <td>YEM</td>\n",
       "      <td>Yemen</td>\n",
       "      <td>29825968</td>\n",
       "      <td>56.492</td>\n",
       "      <td>527970</td>\n",
       "      <td>27591261663</td>\n",
       "      <td>46</td>\n",
       "      <td>Yemen</td>\n",
       "      <td>Sanaa</td>\n",
       "      <td>Asia</td>\n",
       "      <td>...</td>\n",
       "      <td>28516545</td>\n",
       "      <td>24743946</td>\n",
       "      <td>18628700</td>\n",
       "      <td>13375121</td>\n",
       "      <td>9204938</td>\n",
       "      <td>6843607</td>\n",
       "      <td>527968</td>\n",
       "      <td>63.8232</td>\n",
       "      <td>1.0217</td>\n",
       "      <td>0.42</td>\n",
       "    </tr>\n",
       "    <tr>\n",
       "      <th>232</th>\n",
       "      <td>ZMB</td>\n",
       "      <td>Zambia</td>\n",
       "      <td>18383956</td>\n",
       "      <td>24.730</td>\n",
       "      <td>752610</td>\n",
       "      <td>23064722446</td>\n",
       "      <td>63</td>\n",
       "      <td>Zambia</td>\n",
       "      <td>Lusaka</td>\n",
       "      <td>Africa</td>\n",
       "      <td>...</td>\n",
       "      <td>16248230</td>\n",
       "      <td>13792086</td>\n",
       "      <td>9891136</td>\n",
       "      <td>7686401</td>\n",
       "      <td>5720438</td>\n",
       "      <td>4281671</td>\n",
       "      <td>752612</td>\n",
       "      <td>26.5976</td>\n",
       "      <td>1.0280</td>\n",
       "      <td>0.25</td>\n",
       "    </tr>\n",
       "    <tr>\n",
       "      <th>233</th>\n",
       "      <td>ZWE</td>\n",
       "      <td>Zimbabwe</td>\n",
       "      <td>14862927</td>\n",
       "      <td>38.420</td>\n",
       "      <td>390760</td>\n",
       "      <td>21440758800</td>\n",
       "      <td>74</td>\n",
       "      <td>Zimbabwe</td>\n",
       "      <td>Harare</td>\n",
       "      <td>Africa</td>\n",
       "      <td>...</td>\n",
       "      <td>14154937</td>\n",
       "      <td>12839771</td>\n",
       "      <td>11834676</td>\n",
       "      <td>10113893</td>\n",
       "      <td>7049926</td>\n",
       "      <td>5202918</td>\n",
       "      <td>390757</td>\n",
       "      <td>41.7665</td>\n",
       "      <td>1.0204</td>\n",
       "      <td>0.20</td>\n",
       "    </tr>\n",
       "  </tbody>\n",
       "</table>\n",
       "<p>234 rows × 22 columns</p>\n",
       "</div>"
      ]
     },
     "execution_count": 527,
     "metadata": {},
     "output_type": "execute_result"
    }
   ],
   "execution_count": 527
  },
  {
   "metadata": {
    "ExecuteTime": {
     "end_time": "2025-03-21T02:34:09.890286Z",
     "start_time": "2025-03-21T02:34:09.874826Z"
    }
   },
   "cell_type": "code",
   "source": [
    "df_6_1['area_sq_km'].fillna(df_6_1['Area (km²)'], inplace=True)\n",
    "df_6_1['country_name'].fillna(df_6_1['Country/Territory'], inplace=True)\n",
    "df_6_1['population'].fillna(df_6_1['2022 Population'], inplace=True)\n",
    "df_6_1['population_density'].fillna(df_6_1['Density (per km²)'], inplace=True)\n",
    "df_6_1['gdp_usd'] = df_6_1['gdp_usd'].fillna(0)\n",
    "df_6_1['Rank'] = df_6_1['population'].rank(ascending=False, method='min').astype(int)\n",
    "df_6_1 = df_6_1.rename(columns={'population': 'current_population'})\n",
    "df_6_1 = df_6_1.rename(columns={'gdp_usd': 'current_gdp_usd'})\n",
    "df_6_1 = df_6_1.drop(columns=['Area (km²)', 'Country/Territory', '2022 Population', 'Density (per km²)'])\n",
    "df_6_1.to_csv('results/world_covid_6_1.csv', index=False)"
   ],
   "id": "705b4f6b78d556da",
   "outputs": [
    {
     "name": "stderr",
     "output_type": "stream",
     "text": [
      "C:\\Users\\user\\AppData\\Local\\Temp\\ipykernel_17448\\39447653.py:1: FutureWarning: A value is trying to be set on a copy of a DataFrame or Series through chained assignment using an inplace method.\n",
      "The behavior will change in pandas 3.0. This inplace method will never work because the intermediate object on which we are setting values always behaves as a copy.\n",
      "\n",
      "For example, when doing 'df[col].method(value, inplace=True)', try using 'df.method({col: value}, inplace=True)' or df[col] = df[col].method(value) instead, to perform the operation inplace on the original object.\n",
      "\n",
      "\n",
      "  df_6_1['area_sq_km'].fillna(df_6_1['Area (km²)'], inplace=True)\n",
      "C:\\Users\\user\\AppData\\Local\\Temp\\ipykernel_17448\\39447653.py:2: FutureWarning: A value is trying to be set on a copy of a DataFrame or Series through chained assignment using an inplace method.\n",
      "The behavior will change in pandas 3.0. This inplace method will never work because the intermediate object on which we are setting values always behaves as a copy.\n",
      "\n",
      "For example, when doing 'df[col].method(value, inplace=True)', try using 'df.method({col: value}, inplace=True)' or df[col] = df[col].method(value) instead, to perform the operation inplace on the original object.\n",
      "\n",
      "\n",
      "  df_6_1['country_name'].fillna(df_6_1['Country/Territory'], inplace=True)\n",
      "C:\\Users\\user\\AppData\\Local\\Temp\\ipykernel_17448\\39447653.py:3: FutureWarning: A value is trying to be set on a copy of a DataFrame or Series through chained assignment using an inplace method.\n",
      "The behavior will change in pandas 3.0. This inplace method will never work because the intermediate object on which we are setting values always behaves as a copy.\n",
      "\n",
      "For example, when doing 'df[col].method(value, inplace=True)', try using 'df.method({col: value}, inplace=True)' or df[col] = df[col].method(value) instead, to perform the operation inplace on the original object.\n",
      "\n",
      "\n",
      "  df_6_1['population'].fillna(df_6_1['2022 Population'], inplace=True)\n",
      "C:\\Users\\user\\AppData\\Local\\Temp\\ipykernel_17448\\39447653.py:4: FutureWarning: A value is trying to be set on a copy of a DataFrame or Series through chained assignment using an inplace method.\n",
      "The behavior will change in pandas 3.0. This inplace method will never work because the intermediate object on which we are setting values always behaves as a copy.\n",
      "\n",
      "For example, when doing 'df[col].method(value, inplace=True)', try using 'df.method({col: value}, inplace=True)' or df[col] = df[col].method(value) instead, to perform the operation inplace on the original object.\n",
      "\n",
      "\n",
      "  df_6_1['population_density'].fillna(df_6_1['Density (per km²)'], inplace=True)\n"
     ]
    }
   ],
   "execution_count": 528
  },
  {
   "metadata": {
    "ExecuteTime": {
     "end_time": "2025-03-21T02:34:10.061397Z",
     "start_time": "2025-03-21T02:34:09.957318Z"
    }
   },
   "cell_type": "code",
   "source": [
    "df_6_2 = df_6_1.merge(gdp, on=['country_code'], how='left')\n",
    "df_6_2['current_gdp_usd'].fillna(0, inplace=True)\n",
    "df_6_2 = df_6_2.drop(columns=['Country Name'])\n",
    "df_6_2 = df_6_2.dropna(subset=['Value'])\n",
    "df_6_2['Year'] = df_6_2['Year'].astype(int)\n",
    "\n",
    "df_6_2.to_csv('results/gdp_covid_6_2.csv', index=False)"
   ],
   "id": "a50dcd565a6712d7",
   "outputs": [
    {
     "name": "stderr",
     "output_type": "stream",
     "text": [
      "C:\\Users\\user\\AppData\\Local\\Temp\\ipykernel_17448\\2396596109.py:2: FutureWarning: A value is trying to be set on a copy of a DataFrame or Series through chained assignment using an inplace method.\n",
      "The behavior will change in pandas 3.0. This inplace method will never work because the intermediate object on which we are setting values always behaves as a copy.\n",
      "\n",
      "For example, when doing 'df[col].method(value, inplace=True)', try using 'df.method({col: value}, inplace=True)' or df[col] = df[col].method(value) instead, to perform the operation inplace on the original object.\n",
      "\n",
      "\n",
      "  df_6_2['current_gdp_usd'].fillna(0, inplace=True)\n"
     ]
    }
   ],
   "execution_count": 529
  },
  {
   "metadata": {},
   "cell_type": "markdown",
   "source": "Część 7",
   "id": "42228c6e336d159b"
  },
  {
   "metadata": {
    "ExecuteTime": {
     "end_time": "2025-03-21T02:34:31.027686Z",
     "start_time": "2025-03-21T02:34:10.175122Z"
    }
   },
   "cell_type": "code",
   "source": "mobility = pd.read_csv('Global_Mobility_Report.csv')",
   "id": "521dee259db6bf32",
   "outputs": [
    {
     "name": "stderr",
     "output_type": "stream",
     "text": [
      "C:\\Users\\user\\AppData\\Local\\Temp\\ipykernel_17448\\3416392425.py:1: DtypeWarning: Columns (3,4,5) have mixed types. Specify dtype option on import or set low_memory=False.\n",
      "  mobility = pd.read_csv('Global_Mobility_Report.csv')\n"
     ]
    }
   ],
   "execution_count": 530
  },
  {
   "metadata": {
    "ExecuteTime": {
     "end_time": "2025-03-21T02:34:32.054110Z",
     "start_time": "2025-03-21T02:34:31.116704Z"
    }
   },
   "cell_type": "code",
   "source": [
    "mobility = mobility[mobility['sub_region_1'].isna()]\n",
    "mobility = mobility.drop(columns=['sub_region_1','sub_region_2','iso_3166_2_code','census_fips_code','place_id','metro_area', 'country_region'])\n",
    "mobility['date'] = pd.to_datetime(mobility['date'], errors='coerce')"
   ],
   "id": "99399427ba63721d",
   "outputs": [],
   "execution_count": 531
  },
  {
   "metadata": {
    "ExecuteTime": {
     "end_time": "2025-03-21T02:34:34.272535Z",
     "start_time": "2025-03-21T02:34:32.137729Z"
    }
   },
   "cell_type": "code",
   "source": [
    "query = 'select distinct country_name, iso_3166_1_alpha_2, iso_3166_1_alpha_3  from bigquery-public-data.covid19_open_data.covid19_open_data where aggregation_level = 0 and population is not null and iso_3166_1_alpha_3 is not null and area_sq_km is not null'\n",
    "country_2l = client.query(query).result().to_dataframe()"
   ],
   "id": "94615cfbbfba4dce",
   "outputs": [],
   "execution_count": 532
  },
  {
   "metadata": {
    "ExecuteTime": {
     "end_time": "2025-03-21T02:34:34.677423Z",
     "start_time": "2025-03-21T02:34:34.400839Z"
    }
   },
   "cell_type": "code",
   "source": [
    "df_7_1 = df_5_1.merge(country_2l, on=['country_name'], how='left')\n",
    "df_7_1 = df_7_1.rename(columns={'iso_3166_1_alpha_2': 'country_region_code'})\n",
    "df_7_1 = df_7_1.merge(mobility,on =['country_region_code', 'date'], how='inner')\n",
    "df_7_1 = df_7_1.drop(columns=['country_region_code'])\n",
    "df_7_1 = df_7_1.drop_duplicates(subset = ['country_name', 'date'])"
   ],
   "id": "47b986ac47334603",
   "outputs": [],
   "execution_count": 533
  },
  {
   "metadata": {
    "ExecuteTime": {
     "end_time": "2025-03-21T02:34:36.345428Z",
     "start_time": "2025-03-21T02:34:34.774514Z"
    }
   },
   "cell_type": "code",
   "source": [
    "columns_to_fill = ['retail_and_recreation_percent_change_from_baseline', 'grocery_and_pharmacy_percent_change_from_baseline', 'parks_percent_change_from_baseline','transit_stations_percent_change_from_baseline', 'workplaces_percent_change_from_baseline', 'residential_percent_change_from_baseline']\n",
    "df_7_1[columns_to_fill] = df_7_1[columns_to_fill].fillna(0)\n",
    "df_7_1.to_csv('results/mobility_covid_7_1.csv', index=False)"
   ],
   "id": "68eb54ee9354cd",
   "outputs": [],
   "execution_count": 534
  },
  {
   "metadata": {
    "ExecuteTime": {
     "end_time": "2025-03-21T02:34:36.532843Z",
     "start_time": "2025-03-21T02:34:36.430467Z"
    }
   },
   "cell_type": "code",
   "source": [
    "df_7_2  = pd.read_csv('unempl.csv')\n",
    "df_7_2 = df_7_2[['REF_AREA','Reference area','TIME_PERIOD','OBS_VALUE']]\n",
    "df_7_2['TIME_PERIOD'] = pd.to_datetime(df_7_2['TIME_PERIOD'], errors='coerce')\n",
    "temp = df_5_1.merge(country_2l, on=['country_name'], how='left')\n",
    "temp = temp.rename(columns={'iso_3166_1_alpha_3': 'country_region_code'})\n",
    "df_7_2 = df_7_2.rename(columns={'TIME_PERIOD': 'date', 'REF_AREA': 'country_region_code'})\n"
   ],
   "id": "14b6656468a3116f",
   "outputs": [],
   "execution_count": 535
  },
  {
   "metadata": {
    "ExecuteTime": {
     "end_time": "2025-03-21T02:34:36.650517Z",
     "start_time": "2025-03-21T02:34:36.617368Z"
    }
   },
   "cell_type": "code",
   "source": [
    "df_7_2['year_month'] = df_7_2['date'].dt.to_period('M')\n",
    "temp['year_month'] = temp['date'].dt.to_period('M')\n",
    "\n",
    "max_date = temp['date'].max()\n",
    "df_7_2 = df_7_2[df_7_2['date'] <= max_date]\n"
   ],
   "id": "ac9fa424650beb93",
   "outputs": [],
   "execution_count": 536
  },
  {
   "metadata": {
    "ExecuteTime": {
     "end_time": "2025-03-21T02:34:37.127065Z",
     "start_time": "2025-03-21T02:34:36.735506Z"
    }
   },
   "cell_type": "code",
   "source": [
    "df_7_2 = df_7_2.drop(columns=['date'])\n",
    "df_7_2 = df_7_2.merge(temp,on=['year_month', 'country_region_code'], how='inner')\n",
    "df_7_2.drop(columns=['year_month', 'Reference area'], inplace=True)\n",
    "df_7_2.to_csv('results/unemployment_covid_7_2.csv', index=False)"
   ],
   "id": "cabc0b0610ab2632",
   "outputs": [],
   "execution_count": 537
  },
  {
   "metadata": {
    "ExecuteTime": {
     "end_time": "2025-03-21T02:34:37.351223Z",
     "start_time": "2025-03-21T02:34:37.212359Z"
    }
   },
   "cell_type": "code",
   "source": "df_7_3 = pd.read_csv('global_electricity_production_data.csv')",
   "id": "65289e48e5954029",
   "outputs": [],
   "execution_count": 538
  },
  {
   "metadata": {
    "ExecuteTime": {
     "end_time": "2025-03-21T02:34:37.467526Z",
     "start_time": "2025-03-21T02:34:37.441844Z"
    }
   },
   "cell_type": "code",
   "source": [
    "df_7_3 = df_7_3.drop(columns=['parameter','product','unit'])\n",
    "df_7_3 = df_7_3.rename(columns={'value': 'value (GWh)'})\n",
    "df_7_3['date'] = pd.to_datetime(df_7_3['date'], errors='coerce')"
   ],
   "id": "88ac8034600e0c9f",
   "outputs": [],
   "execution_count": 539
  },
  {
   "metadata": {
    "ExecuteTime": {
     "end_time": "2025-03-21T02:34:37.657328Z",
     "start_time": "2025-03-21T02:34:37.551096Z"
    }
   },
   "cell_type": "code",
   "source": [
    "temp = df_5_1.merge(country_2l, on=['country_name'], how='left')\n",
    "df_7_3['year_month'] = df_7_3['date'].dt.to_period('M')\n",
    "temp['year_month'] = temp['date'].dt.to_period('M')\n",
    "\n",
    "max_date = temp['date'].max()\n",
    "min_date = temp['date'].min()\n",
    "df_7_3 = df_7_3[df_7_3['date'] >= min_date]\n",
    "df_7_3 = df_7_3[df_7_3['date'] <= max_date]"
   ],
   "id": "fb6f87195ec04016",
   "outputs": [],
   "execution_count": 540
  },
  {
   "metadata": {
    "ExecuteTime": {
     "end_time": "2025-03-21T02:34:38.463667Z",
     "start_time": "2025-03-21T02:34:37.743011Z"
    }
   },
   "cell_type": "code",
   "source": [
    "df_7_3 = df_7_3.drop(columns=['date'])\n",
    "df_7_3 = df_7_3.merge(temp,on=['year_month', 'country_name'], how='inner')\n",
    "df_7_3.drop(columns=['year_month', 'iso_3166_1_alpha_2'], inplace=True)\n",
    "df_7_3 = df_7_3.drop_duplicates(subset = ['country_name', 'date'])\n",
    "\n",
    "df_7_3.to_csv('results/electricity_covid_7_3.csv', index=False)"
   ],
   "id": "db895c74156599cb",
   "outputs": [],
   "execution_count": 541
  },
  {
   "metadata": {},
   "cell_type": "markdown",
   "source": "Wariant 2",
   "id": "4fd50fe568924a9c"
  },
  {
   "metadata": {
    "ExecuteTime": {
     "end_time": "2025-03-21T02:34:38.598758Z",
     "start_time": "2025-03-21T02:34:38.547833Z"
    }
   },
   "cell_type": "code",
   "source": [
    "df_7_1_2 = pd.read_csv('children-per-woman-un.csv')\n",
    "df_7_1_2 = df_7_1_2.dropna()\n",
    "df_7_1_2 = df_7_1_2.drop_duplicates(subset=['Code', 'Year'])\n",
    "df_7_1_2 = df_7_1_2[(df_7_1_2['Year'] >= 1960) & (df_7_1_2['Year'] <= 2022)]\n",
    "\n",
    "df_7_2_2 = pd.read_csv('per-capita-energy-use.csv')\n",
    "df_7_2_2 = df_7_2_2.dropna()\n",
    "df_7_2_2 = df_7_2_2.drop_duplicates(subset=['Code', 'Year'])\n",
    "df_7_2_2 = df_7_2_2[(df_7_2_2['Year'] >= 1960) & (df_7_2_2['Year'] <= 2022)]\n",
    "\n",
    "df_7_3_2 = pd.read_csv('inflation-of-consumer-prices.csv')\n",
    "df_7_3_2 = df_7_3_2.dropna()\n",
    "df_7_3_2 = df_7_3_2.drop_duplicates(subset=['Code', 'Year'])\n",
    "df_7_3_2 = df_7_3_2[(df_7_3_2['Year'] >= 1960) & (df_7_3_2['Year'] <= 2022)]\n"
   ],
   "id": "6a3882f2cdf23c30",
   "outputs": [],
   "execution_count": 542
  },
  {
   "metadata": {
    "ExecuteTime": {
     "end_time": "2025-03-21T02:34:38.762357Z",
     "start_time": "2025-03-21T02:34:38.689050Z"
    }
   },
   "cell_type": "code",
   "source": [
    "df_7_4_2 = df_7_1_2.merge(df_7_2_2, on=['Code', 'Year'], how='left')\n",
    "df_7_4_2 = df_7_4_2.merge(df_7_3_2, on=['Code', 'Year'], how='left')\n",
    "df_7_4_2 = df_7_4_2.drop(columns=['Entity', 'Entity_y'])\n",
    "df_7_4_2 = df_7_4_2.rename(columns={'Entity_x': 'Entity', 'Code': 'country_code'})\n",
    "df_7_4_2 = df_7_4_2.fillna(0)\n",
    "df_7_4_2.to_csv('results/inflation_energy_children.csv', index=False)"
   ],
   "id": "d5f4f10f50fa4110",
   "outputs": [],
   "execution_count": 543
  },
  {
   "metadata": {
    "ExecuteTime": {
     "end_time": "2025-03-21T02:34:38.973309Z",
     "start_time": "2025-03-21T02:34:38.846325Z"
    }
   },
   "cell_type": "code",
   "source": [
    "df_7_5_2 = df_6_2.merge(df_7_4_2, on=['country_code', 'Year'], how='left')\n",
    "df_7_5_2 = df_7_5_2.drop(columns=['Entity'])\n",
    "df_7_5_2.to_csv('results/combined_7_5_2.csv', index=False)"
   ],
   "id": "95b29624c42ac24e",
   "outputs": [],
   "execution_count": 544
  },
  {
   "metadata": {
    "ExecuteTime": {
     "end_time": "2025-03-21T02:34:39.228984Z",
     "start_time": "2025-03-21T02:34:39.062582Z"
    }
   },
   "cell_type": "code",
   "source": [
    "df_7_6_2 = df_6_1.merge(df_7_4_2, on=['country_code'], how='inner')\n",
    "df_7_6_2 = df_7_6_2.drop(columns=['Entity'])\n",
    "df_7_6_2.to_csv('results/combined_7_6_2.csv', index=False)"
   ],
   "id": "8bc2b411a5fede18",
   "outputs": [],
   "execution_count": 545
  }
 ],
 "metadata": {
  "kernelspec": {
   "display_name": "Python 3",
   "language": "python",
   "name": "python3"
  },
  "language_info": {
   "codemirror_mode": {
    "name": "ipython",
    "version": 2
   },
   "file_extension": ".py",
   "mimetype": "text/x-python",
   "name": "python",
   "nbconvert_exporter": "python",
   "pygments_lexer": "ipython2",
   "version": "2.7.6"
  }
 },
 "nbformat": 4,
 "nbformat_minor": 5
}
